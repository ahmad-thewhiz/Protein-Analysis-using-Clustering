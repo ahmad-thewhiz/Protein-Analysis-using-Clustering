{
 "cells": [
  {
   "cell_type": "markdown",
   "id": "53087e0e",
   "metadata": {},
   "source": [
    "#### Developer: Ahmad Raza\n",
    "#### All rights reserved"
   ]
  },
  {
   "cell_type": "markdown",
   "id": "3b0c465a",
   "metadata": {},
   "source": [
    "* Importing the necessary libraries: \n",
    "1. Pandas for data manipulation \n",
    "2. NumPy for numerical computations\n",
    "3. hierarchy from scipy\n",
    "4. cluster for hierarchical clustering \n",
    "5. pyplot from matplotlib for plotting \n",
    "6. pdist from scipy.spatial.distance for pairwise distance calculations\n",
    "7. pearsonr from scipy.stats for computing Pearson correlation coefficients."
   ]
  },
  {
   "cell_type": "code",
   "execution_count": null,
   "id": "0a2e47df",
   "metadata": {},
   "outputs": [],
   "source": [
    "import pandas as pd\n",
    "import numpy as np\n",
    "from scipy.cluster import hierarchy\n",
    "import matplotlib.pyplot as plt\n",
    "from scipy.spatial.distance import pdist\n",
    "from scipy.stats import pearsonr"
   ]
  },
  {
   "cell_type": "code",
   "execution_count": null,
   "id": "5d354aec",
   "metadata": {},
   "outputs": [],
   "source": [
    "data = pd.read_csv('data.csv', index_col=0)"
   ]
  },
  {
   "cell_type": "markdown",
   "id": "3afd3ec3",
   "metadata": {},
   "source": [
    "This line reads a CSV file named 'data.csv' into a Pandas DataFrame called data. The index_col=0 parameter specifies that the first column of the CSV file should be used as the index of the DataFrame."
   ]
  },
  {
   "cell_type": "code",
   "execution_count": null,
   "id": "ece248fd",
   "metadata": {},
   "outputs": [],
   "source": [
    "corr_matrix = data.corr()"
   ]
  },
  {
   "cell_type": "markdown",
   "id": "23e1cbfa",
   "metadata": {},
   "source": [
    "This line computes the correlation matrix of the transposed DataFrame. The T attribute transposes the DataFrame, and the corr() method calculates the pairwise correlation coefficients between columns."
   ]
  },
  {
   "cell_type": "code",
   "execution_count": null,
   "id": "b70680ef",
   "metadata": {},
   "outputs": [],
   "source": [
    "distance_matrix = 1 - corr_matrix"
   ]
  },
  {
   "cell_type": "markdown",
   "id": "101be780",
   "metadata": {},
   "source": [
    "This line converts the correlation matrix to a distance matrix. Each element of the distance matrix is calculated by subtracting the corresponding correlation coefficient from 1."
   ]
  },
  {
   "cell_type": "code",
   "execution_count": null,
   "id": "95bd2a20",
   "metadata": {},
   "outputs": [],
   "source": [
    "Z = hierarchy.linkage(distance_matrix, method='complete')"
   ]
  },
  {
   "cell_type": "markdown",
   "id": "54abaec0",
   "metadata": {},
   "source": [
    "This line performs hierarchical clustering on the distance matrix using the complete-linkage method. The linkage() function from scipy.cluster.hierarchy computes the hierarchical clustering linkage matrix."
   ]
  },
  {
   "cell_type": "code",
   "execution_count": null,
   "id": "a5a8a4f2",
   "metadata": {},
   "outputs": [],
   "source": [
    "fig, ax = plt.subplots(figsize=(20, 12))"
   ]
  },
  {
   "cell_type": "markdown",
   "id": "645607d2",
   "metadata": {},
   "source": [
    "This line creates a figure and an axis object for plotting the dendrogram. The figsize parameter specifies the size of the figure in inches."
   ]
  },
  {
   "cell_type": "code",
   "execution_count": null,
   "id": "16421f1e",
   "metadata": {},
   "outputs": [],
   "source": [
    "dendrogram = hierarchy.dendrogram(Z, orientation='right', labels=data.index)"
   ]
  },
  {
   "cell_type": "markdown",
   "id": "cb9faaa4",
   "metadata": {},
   "source": [
    "This line generates the dendrogram plot using the linkage matrix Z. The orientation parameter sets the orientation of the dendrogram to be vertical ('right'). The labels parameter assigns labels to the leaves of the dendrogram based on the index of the data DataFrame."
   ]
  },
  {
   "cell_type": "code",
   "execution_count": null,
   "id": "91871f32",
   "metadata": {},
   "outputs": [],
   "source": [
    "ax.tick_params(axis='y', which='major', labelsize=10)"
   ]
  },
  {
   "cell_type": "markdown",
   "id": "5ac9ee4a",
   "metadata": {},
   "source": [
    "This line sets the tick parameters for the y-axis of the plot. It specifies that major ticks should be displayed and sets the font size to 10."
   ]
  },
  {
   "cell_type": "code",
   "execution_count": null,
   "id": "40dbf1bb",
   "metadata": {},
   "outputs": [],
   "source": [
    "plt.tight_layout()\n",
    "plt.show()"
   ]
  },
  {
   "cell_type": "markdown",
   "id": "50f27ac6",
   "metadata": {},
   "source": [
    "These lines adjusts the spacing between subplots to prevent overlapping elements and displays the plot on the screen."
   ]
  }
 ],
 "metadata": {
  "kernelspec": {
   "display_name": "Python 3 (ipykernel)",
   "language": "python",
   "name": "python3"
  },
  "language_info": {
   "codemirror_mode": {
    "name": "ipython",
    "version": 3
   },
   "file_extension": ".py",
   "mimetype": "text/x-python",
   "name": "python",
   "nbconvert_exporter": "python",
   "pygments_lexer": "ipython3",
   "version": "3.9.13"
  }
 },
 "nbformat": 4,
 "nbformat_minor": 5
}
